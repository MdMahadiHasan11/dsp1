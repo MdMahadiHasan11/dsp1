{
 "cells": [
  {
   "cell_type": "code",
   "execution_count": null,
   "id": "904db82e-994d-4759-83d2-7676c9f300f9",
   "metadata": {},
   "outputs": [],
   "source": [
    "import numpy as np\n",
    "import matplotlib.pyplot as plt\n",
    "\n",
    "# Input X(K)\n",
    "Xk = np.array(input('Enter X(K) (comma-separated): ').split(','), dtype=complex)\n",
    "N, M = Xk.shape\n",
    "if M != 1:\n",
    "    Xk = Xk.T\n",
    "    N = M\n",
    "\n",
    "xn = np.zeros(N, dtype=complex)\n",
    "k = np.arange(0, N)\n",
    "for n in range(N):\n",
    "    xn[n] = np.sum(np.exp(1j * 2 * np.pi * k * n / N) * Xk)\n",
    "\n",
    "xn = xn / N\n",
    "\n",
    "print('x(n):')\n",
    "print(xn)\n",
    "\n",
    "plt.figure()\n",
    "plt.plot(np.real(xn))\n",
    "plt.grid(True)\n",
    "plt.stem(k, np.real(xn))\n",
    "plt.xlabel('n')\n",
    "plt.ylabel('Magnitude')\n",
    "plt.title('IDFT OF A SEQUENCE')\n",
    "\n",
    "plt.tight_layout()\n",
    "plt.show()\n"
   ]
  }
 ],
 "metadata": {
  "kernelspec": {
   "display_name": "Python 3 (ipykernel)",
   "language": "python",
   "name": "python3"
  },
  "language_info": {
   "codemirror_mode": {
    "name": "ipython",
    "version": 3
   },
   "file_extension": ".py",
   "mimetype": "text/x-python",
   "name": "python",
   "nbconvert_exporter": "python",
   "pygments_lexer": "ipython3",
   "version": "3.11.3"
  }
 },
 "nbformat": 4,
 "nbformat_minor": 5
}
